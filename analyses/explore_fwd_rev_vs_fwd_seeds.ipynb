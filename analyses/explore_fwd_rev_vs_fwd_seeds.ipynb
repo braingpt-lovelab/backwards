{
 "cells": [
  {
   "cell_type": "markdown",
   "id": "7b88b860",
   "metadata": {},
   "source": [
    "### Compare ppl difference between (fwd vs rev) and (fwd seed2 vs fwd seed3)"
   ]
  },
  {
   "cell_type": "code",
   "execution_count": 3,
   "id": "65e222c7",
   "metadata": {},
   "outputs": [],
   "source": [
    "import numpy as np\n",
    "import scipy.stats as stats\n",
    "from utils import general_utils"
   ]
  },
  {
   "cell_type": "code",
   "execution_count": 20,
   "id": "ab122e0b",
   "metadata": {},
   "outputs": [],
   "source": [
    "def cohens_d_rel(x, y):\n",
    "    diff_mean = np.mean(x) - np.mean(y)\n",
    "    diff_var = np.var(x - y, ddof=1)\n",
    "    return np.abs(diff_mean / np.sqrt(diff_var))"
   ]
  },
  {
   "cell_type": "markdown",
   "id": "b41a129c",
   "metadata": {},
   "source": [
    "* Validation set"
   ]
  },
  {
   "cell_type": "code",
   "execution_count": 25,
   "id": "4ba50468",
   "metadata": {},
   "outputs": [],
   "source": [
    "# Bayes fwd and rev models\n",
    "# (train-sampled and validation sets)\n",
    "fwd_bayes_val_path = \"model_results/gpt2_scratch_neuro_tokenizer_bayes_fwd/human_abstracts/all_batches_ppl_validation.npy\"\n",
    "rev_bayes_val_path = \"model_results/gpt2_scratch_neuro_tokenizer_bayes_rev/human_abstracts/all_batches_ppl_validation.npy\"\n",
    "fwd_bayes_val_seed2_path = \"model_results/gpt2_scratch_neuro_tokenizer_bayes_fwd_seed2/human_abstracts/all_batches_ppl_validation.npy\"\n",
    "fwd_bayes_val_seed3_path = \"model_results/gpt2_scratch_neuro_tokenizer_bayes_fwd_seed3/human_abstracts/all_batches_ppl_validation.npy\"\n",
    "\n",
    "fwd_bayes_val_ppls = np.load(fwd_bayes_val_path)\n",
    "rev_bayes_val_ppls = np.load(rev_bayes_val_path)\n",
    "fwd_bayes_val_seed2_ppls = np.load(fwd_bayes_val_seed2_path)\n",
    "fwd_bayes_val_seed3_ppls = np.load(fwd_bayes_val_seed3_path)"
   ]
  },
  {
   "cell_type": "code",
   "execution_count": 27,
   "id": "b31fe39a",
   "metadata": {},
   "outputs": [
    {
     "name": "stdout",
     "output_type": "stream",
     "text": [
      "Bayes Val Fwd vs Rev:\n",
      " TtestResult(statistic=-15.672598361144663, pvalue=1.139724125552024e-54, df=9412)\n",
      "Bayes Val Fwd vs Fwd seed2:\n",
      " TtestResult(statistic=29.117340857422708, pvalue=1.512070129783087e-178, df=9412)\n",
      "Bayes Val Fwd vs Fwd seed3:\n",
      " TtestResult(statistic=44.58779533114187, pvalue=0.0, df=9412)\n"
     ]
    }
   ],
   "source": [
    "# T-test\n",
    "print(\n",
    "    \"Bayes Val Fwd vs Rev:\\n\", stats.ttest_rel(fwd_bayes_val_ppls, rev_bayes_val_ppls)\n",
    ")\n",
    "print(\n",
    "    \"Bayes Val Fwd vs Fwd seed2:\\n\",\n",
    "    stats.ttest_rel(fwd_bayes_val_ppls, fwd_bayes_val_seed2_ppls),\n",
    ")\n",
    "print(\n",
    "    \"Bayes Val Fwd vs Fwd seed3:\\n\",\n",
    "    stats.ttest_rel(fwd_bayes_val_ppls, fwd_bayes_val_seed3_ppls),\n",
    ")"
   ]
  },
  {
   "cell_type": "code",
   "execution_count": 24,
   "id": "c63e9219",
   "metadata": {},
   "outputs": [
    {
     "name": "stdout",
     "output_type": "stream",
     "text": [
      "Bayes Val Fwd vs Rev:\n",
      " 0.16153884553828604\n",
      "Bayes Val Fwd vs Fwd seed2:\n",
      " 0.3001149853309472\n",
      "Bayes Val Fwd vs Fwd seed3:\n",
      " 0.45957031609684224\n"
     ]
    }
   ],
   "source": [
    "# Cohen's d\n",
    "print(\n",
    "    \"Bayes Val Fwd vs Rev:\\n\",\n",
    "    cohens_d_rel(fwd_bayes_val_ppls, rev_bayes_val_ppls),\n",
    ")\n",
    "print(\n",
    "    \"Bayes Val Fwd vs Fwd seed2:\\n\",\n",
    "    cohens_d_rel(fwd_bayes_val_ppls, fwd_bayes_val_seed2_ppls),\n",
    ")\n",
    "print(\n",
    "    \"Bayes Val Fwd vs Fwd seed3:\\n\",\n",
    "    cohens_d_rel(fwd_bayes_val_ppls, fwd_bayes_val_seed3_ppls),\n",
    ")"
   ]
  },
  {
   "cell_type": "markdown",
   "id": "c2b88311",
   "metadata": {},
   "source": [
    "* Brainbench differences"
   ]
  },
  {
   "cell_type": "code",
   "execution_count": 2,
   "id": "2b0c814c",
   "metadata": {},
   "outputs": [],
   "source": [
    "def _ppl_original_ppl_altered_and_ppl_diff(PPL_A_and_B, labels, norm=False):\n",
    "    \"\"\"\n",
    "    Args:\n",
    "        PPL_A_and_B: (N, 2) array of PPL values for A and B\n",
    "        labels: (N, ) array of labels (0 or 1) where 0 indicates A correct, B incorrect\n",
    "        norm: normalization method for PPL difference\n",
    "            False (default): no normalization\n",
    "            True: normalize by the PPL of the original\n",
    "\n",
    "    Returns:\n",
    "        PPL_original: (N, ) array of PPL values of original/correct options\n",
    "        PPL_altered: (N, ) array of PPL values of altered/incorrect options\n",
    "        PPL_diff: (N, ) array of PPL difference between altered and original options\n",
    "    \"\"\"\n",
    "    PPL_A = PPL_A_and_B[:, 0]\n",
    "    PPL_B = PPL_A_and_B[:, 1]\n",
    "    PPL_original = []\n",
    "    PPL_altered = []\n",
    "    PPL_diff = []  # altered - original\n",
    "    for i, label in enumerate(labels):\n",
    "        if label == 0:  # A correct, B incorrect\n",
    "            PPL_original.append(PPL_A[i])\n",
    "            PPL_altered.append(PPL_B[i])\n",
    "            diff = PPL_B[i] - PPL_A[i]\n",
    "            if norm is True:\n",
    "                diff /= PPL_A[i]\n",
    "            PPL_diff.append(diff)\n",
    "        else:\n",
    "            PPL_original.append(PPL_B[i])\n",
    "            PPL_altered.append(PPL_A[i])\n",
    "            diff = PPL_A[i] - PPL_B[i]\n",
    "            if norm is True:\n",
    "                diff /= PPL_B[i]\n",
    "            PPL_diff.append(diff)\n",
    "    return np.array(PPL_original), np.array(PPL_altered), np.array(PPL_diff)"
   ]
  },
  {
   "cell_type": "code",
   "execution_count": 4,
   "id": "7b973ad5",
   "metadata": {},
   "outputs": [
    {
     "data": {
      "text/plain": [
       "<function utils.general_utils.scorer_acc(PPL_A_and_B, labels)>"
      ]
     },
     "execution_count": 4,
     "metadata": {},
     "output_type": "execute_result"
    }
   ],
   "source": [
    "general_utils.scorer_acc"
   ]
  },
  {
   "cell_type": "code",
   "execution_count": 6,
   "id": "61247f21",
   "metadata": {},
   "outputs": [
    {
     "name": "stdout",
     "output_type": "stream",
     "text": [
      "(200,) (200,)\n",
      "(200,) (200,)\n"
     ]
    }
   ],
   "source": [
    "# Bayes fwd and rev models\n",
    "fwd_bayes_brainbench_ppls_path = \"model_results/gpt2_scratch_neuro_tokenizer_bayes_fwd/human_abstracts/PPL_A_and_B.npy\"\n",
    "fwd_bayes_brainbench_labels_path = \"model_results/gpt2_scratch_neuro_tokenizer_bayes_fwd/human_abstracts/labels.npy\"\n",
    "rev_bayes_brainbench_ppls_path = \"model_results/gpt2_scratch_neuro_tokenizer_bayes_rev/human_abstracts/PPL_A_and_B.npy\"\n",
    "rev_bayes_brainbench_labels_path = \"model_results/gpt2_scratch_neuro_tokenizer_bayes_rev/human_abstracts/labels.npy\"\n",
    "fwd_bayes_brainbench_ppls_seed2_path = \"model_results/gpt2_scratch_neuro_tokenizer_bayes_fwd_seed2/human_abstracts/PPL_A_and_B.npy\"\n",
    "fwd_bayes_brainbench_labels_seed2_path = \"model_results/gpt2_scratch_neuro_tokenizer_bayes_fwd_seed2/human_abstracts/labels.npy\"\n",
    "fwd_bayes_brainbench_ppls_seed3_path = \"model_results/gpt2_scratch_neuro_tokenizer_bayes_fwd_seed3/human_abstracts/PPL_A_and_B.npy\"\n",
    "fwd_bayes_brainbench_labels_seed3_path = \"model_results/gpt2_scratch_neuro_tokenizer_bayes_fwd_seed3/human_abstracts/labels.npy\"\n",
    "\n",
    "fwd_bayes_brainbench_ppls = np.load(fwd_bayes_brainbench_ppls_path)\n",
    "fwd_bayes_brainbench_labels = np.load(fwd_bayes_brainbench_labels_path)\n",
    "rev_bayes_brainbench_ppls = np.load(rev_bayes_brainbench_ppls_path)\n",
    "rev_bayes_brainbench_labels = np.load(rev_bayes_brainbench_labels_path)\n",
    "fwd_bayes_brainbench_ppls_seed2 = np.load(fwd_bayes_brainbench_ppls_seed2_path)\n",
    "fwd_bayes_brainbench_labels_seed2 = np.load(fwd_bayes_brainbench_labels_seed2_path)\n",
    "fwd_bayes_brainbench_ppls_seed3 = np.load(fwd_bayes_brainbench_ppls_seed3_path)\n",
    "fwd_bayes_brainbench_labels_seed3 = np.load(fwd_bayes_brainbench_labels_seed3_path)\n",
    "\n",
    "fwd_bayes_brainbench_ppls_original, fwd_bayes_brainbench_ppls_altered, fwd_bayes_brainbench_ppls_diff \\\n",
    "    = _ppl_original_ppl_altered_and_ppl_diff(fwd_bayes_brainbench_ppls, fwd_bayes_brainbench_labels)\n",
    "rev_bayes_brainbench_ppls_original, rev_bayes_brainbench_ppls_altered, rev_bayes_brainbench_ppls_diff \\\n",
    "    = _ppl_original_ppl_altered_and_ppl_diff(rev_bayes_brainbench_ppls, rev_bayes_brainbench_labels)\n",
    "fwd_bayes_brainbench_ppls_seed2_original, fwd_bayes_brainbench_ppls_seed2_altered, fwd_bayes_brainbench_ppls_seed2_diff \\\n",
    "    = _ppl_original_ppl_altered_and_ppl_diff(fwd_bayes_brainbench_ppls_seed2, fwd_bayes_brainbench_labels_seed2)\n",
    "fwd_bayes_brainbench_ppls_seed3_original, fwd_bayes_brainbench_ppls_seed3_altered, fwd_bayes_brainbench_ppls_seed3_diff \\\n",
    "    = _ppl_original_ppl_altered_and_ppl_diff(fwd_bayes_brainbench_ppls_seed3, fwd_bayes_brainbench_labels_seed3)\n",
    "\n",
    "print(fwd_bayes_brainbench_ppls_original.shape, fwd_bayes_brainbench_ppls_diff.shape)\n",
    "print(rev_bayes_brainbench_ppls_original.shape, rev_bayes_brainbench_ppls_diff.shape)\n"
   ]
  },
  {
   "cell_type": "code",
   "execution_count": 18,
   "id": "cb946921",
   "metadata": {},
   "outputs": [
    {
     "name": "stdout",
     "output_type": "stream",
     "text": [
      "Bayes fwd brainbench acc 0.605\n",
      "Bayes rev brainbench acc 0.64\n",
      "Bayes fwd brainbench acc seed2 0.65\n",
      "Bayes fwd brainbench acc seed3 0.65\n"
     ]
    }
   ],
   "source": [
    "# Get acc\n",
    "fwd_bayes_brainbench_acc = general_utils.scorer_acc(fwd_bayes_brainbench_ppls, fwd_bayes_brainbench_labels)\n",
    "rev_bayes_brainbench_acc = general_utils.scorer_acc(rev_bayes_brainbench_ppls, rev_bayes_brainbench_labels)\n",
    "fwd_bayes_brainbench_acc_seed2 = general_utils.scorer_acc(fwd_bayes_brainbench_ppls_seed2, fwd_bayes_brainbench_labels_seed2)\n",
    "fwd_bayes_brainbench_acc_seed3 = general_utils.scorer_acc(fwd_bayes_brainbench_ppls_seed3, fwd_bayes_brainbench_labels_seed3)\n",
    "print(\"Bayes fwd brainbench acc\", fwd_bayes_brainbench_acc)\n",
    "print(\"Bayes rev brainbench acc\", rev_bayes_brainbench_acc)\n",
    "print(\"Bayes fwd brainbench acc seed2\", fwd_bayes_brainbench_acc_seed2)\n",
    "print(\"Bayes fwd brainbench acc seed3\", fwd_bayes_brainbench_acc_seed3)"
   ]
  },
  {
   "cell_type": "code",
   "execution_count": 14,
   "id": "2050358c",
   "metadata": {},
   "outputs": [
    {
     "name": "stdout",
     "output_type": "stream",
     "text": [
      "Bayes Brainbench Fwd vs Rev PPL on original:\n",
      " TtestResult(statistic=2.117760377137123, pvalue=0.03543670106655037, df=199)\n",
      "\n",
      "Bayes Brainbench Fwd vs Fwd seed2 PPL on original:\n",
      " TtestResult(statistic=0.1079170438457081, pvalue=0.9141702246874246, df=199)\n",
      "\n",
      "Bayes Brainbench Fwd vs Fwd seed3 PPL on original:\n",
      " TtestResult(statistic=2.173954715065984, pvalue=0.030888768384098236, df=199)\n",
      "----------------------------------------------------------------------------------------------------\n",
      "Bayes Brainbench Fwd vs Rev PPL on altered:\n",
      " TtestResult(statistic=1.9212736465551556, pvalue=0.056126111455141986, df=199)\n",
      "\n",
      "Bayes Brainbench Fwd vs Fwd seed2 PPL on altered:\n",
      " TtestResult(statistic=-0.056193957680839485, pvalue=0.9552436746191996, df=199)\n",
      "\n",
      "Bayes Brainbench Fwd vs Fwd seed3 PPL on altered:\n",
      " TtestResult(statistic=1.9790981254872273, pvalue=0.04918395382984695, df=199)\n"
     ]
    }
   ],
   "source": [
    "# T-test (ppl original)\n",
    "print(\n",
    "    \"Bayes Brainbench Fwd vs Rev PPL on original:\\n\",\n",
    "    stats.ttest_rel(fwd_bayes_brainbench_ppls_original, rev_bayes_brainbench_ppls_original),\n",
    ")\n",
    "print(\n",
    "    \"\\nBayes Brainbench Fwd vs Fwd seed2 PPL on original:\\n\",\n",
    "    stats.ttest_rel(fwd_bayes_brainbench_ppls_original, fwd_bayes_brainbench_ppls_seed2_original),\n",
    ")\n",
    "print(\n",
    "    \"\\nBayes Brainbench Fwd vs Fwd seed3 PPL on original:\\n\",\n",
    "    stats.ttest_rel(fwd_bayes_brainbench_ppls_original, fwd_bayes_brainbench_ppls_seed3_original),\n",
    ")\n",
    "print(\"--\" * 50)\n",
    "# T-test (ppl altered)\n",
    "print(\n",
    "    \"Bayes Brainbench Fwd vs Rev PPL on altered:\\n\",\n",
    "    stats.ttest_rel(fwd_bayes_brainbench_ppls_altered, rev_bayes_brainbench_ppls_altered),\n",
    ")\n",
    "print(\n",
    "    \"\\nBayes Brainbench Fwd vs Fwd seed2 PPL on altered:\\n\",\n",
    "    stats.ttest_rel(fwd_bayes_brainbench_ppls_altered, fwd_bayes_brainbench_ppls_seed2_altered),\n",
    ")\n",
    "print(\n",
    "    \"\\nBayes Brainbench Fwd vs Fwd seed3 PPL on altered:\\n\",\n",
    "    stats.ttest_rel(fwd_bayes_brainbench_ppls_altered, fwd_bayes_brainbench_ppls_seed3_altered),\n",
    ")"
   ]
  },
  {
   "cell_type": "code",
   "execution_count": 17,
   "id": "0eebbfc1",
   "metadata": {},
   "outputs": [
    {
     "name": "stdout",
     "output_type": "stream",
     "text": [
      "Bayes Brainbench Fwd vs Rev Cohen's d 0.14974827236018215\n",
      "Bayes Brainbench Fwd vs Fwd seed2 Cohen's d 0.007630887350887334\n",
      "Bayes Brainbench Fwd vs Fwd seed3 Cohen's d 0.1537218121015604\n",
      "----------------------------------------------------------------------------------------------------\n",
      "Bayes Brainbench Fwd vs Rev Cohen's d 0.1358545623994156\n",
      "Bayes Brainbench Fwd vs Fwd seed2 Cohen's d 0.003973512853786361\n",
      "Bayes Brainbench Fwd vs Fwd seed3 Cohen's d 0.13994337051656158\n"
     ]
    }
   ],
   "source": [
    "# Cohens' d (ppl original)\n",
    "print(\n",
    "    \"Bayes Brainbench Fwd vs Rev Cohen's d\",\n",
    "    cohens_d_rel(fwd_bayes_brainbench_ppls_original, rev_bayes_brainbench_ppls_original),\n",
    ")\n",
    "print(\n",
    "    \"Bayes Brainbench Fwd vs Fwd seed2 Cohen's d\",\n",
    "    cohens_d_rel(fwd_bayes_brainbench_ppls_original, fwd_bayes_brainbench_ppls_seed2_original),\n",
    ")\n",
    "print(\n",
    "    \"Bayes Brainbench Fwd vs Fwd seed3 Cohen's d\",\n",
    "    cohens_d_rel(fwd_bayes_brainbench_ppls_original, fwd_bayes_brainbench_ppls_seed3_original),\n",
    ")\n",
    "print(\"--\" * 50)\n",
    "\n",
    "# Cohens' d (ppl altered)\n",
    "print(\n",
    "    \"Bayes Brainbench Fwd vs Rev Cohen's d\",\n",
    "    cohens_d_rel(fwd_bayes_brainbench_ppls_altered, rev_bayes_brainbench_ppls_altered),\n",
    ")\n",
    "print(\n",
    "    \"Bayes Brainbench Fwd vs Fwd seed2 Cohen's d\",\n",
    "    cohens_d_rel(fwd_bayes_brainbench_ppls_altered, fwd_bayes_brainbench_ppls_seed2_altered),\n",
    ")\n",
    "print(\n",
    "    \"Bayes Brainbench Fwd vs Fwd seed3 Cohen's d\",\n",
    "    cohens_d_rel(fwd_bayes_brainbench_ppls_altered, fwd_bayes_brainbench_ppls_seed3_altered),\n",
    ")"
   ]
  },
  {
   "cell_type": "markdown",
   "id": "7fe9e2d7",
   "metadata": {},
   "source": [
    "### Thoughts: \n",
    "* First, not surprised to see difference in seed2, seed3 as we all know dropout/init makes a difference.\n",
    "* so the directional asymmetry is as if there is dropout/random init in training. I think it does not mean the asymmetry is not real because differences due to dropout/init are real.\n",
    "* Perhaps this is interesting in that given fixed dropout/init, only vary direction, induces similar effect whereas the proof shows they have to be strictly equivalent!\n",
    "* Need to think carefully on combining fwd+rev models as it would be like dropout ensemble yet does not imply fwd+rev is better than fwd+fwd_seed3.\n",
    "* At the very least this is good sign that the proof somehow holds hence LLMs are not language learning only."
   ]
  }
 ],
 "metadata": {
  "kernelspec": {
   "display_name": "videollama",
   "language": "python",
   "name": "python3"
  },
  "language_info": {
   "codemirror_mode": {
    "name": "ipython",
    "version": 3
   },
   "file_extension": ".py",
   "mimetype": "text/x-python",
   "name": "python",
   "nbconvert_exporter": "python",
   "pygments_lexer": "ipython3",
   "version": "3.9.16"
  }
 },
 "nbformat": 4,
 "nbformat_minor": 5
}
