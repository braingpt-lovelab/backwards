{
 "cells": [
  {
   "cell_type": "code",
   "execution_count": 2,
   "metadata": {},
   "outputs": [
    {
     "name": "stdout",
     "output_type": "stream",
     "text": [
      "path1: model_results/gpt2_scratch_neuro_tokenizer/human_abstracts acc: 0.625\n",
      "path2: model_results/gpt2_scratch_neuro_tokenizer_seed2/human_abstracts acc: 0.635\n",
      "path3: model_results/gpt2_scratch_neuro_tokenizer_seed3/human_abstracts acc: 0.65\n",
      "\n",
      "\n",
      "path1: model_results/gpt2_scratch_neuro_tokenizer_backwards/human_abstracts acc: 0.64\n",
      "path2: model_results/gpt2_scratch_neuro_tokenizer_backwards_seed2/human_abstracts acc: 0.63\n",
      "path3: model_results/gpt2_scratch_neuro_tokenizer_backwards_seed3/human_abstracts acc: 0.645\n"
     ]
    }
   ],
   "source": [
    "import numpy as np \n",
    "\n",
    "path1 = \"model_results/gpt2_scratch_neuro_tokenizer/human_abstracts\"\n",
    "path2 = \"model_results/gpt2_scratch_neuro_tokenizer_seed2/human_abstracts\"\n",
    "path3 = \"model_results/gpt2_scratch_neuro_tokenizer_seed3/human_abstracts\"\n",
    "\n",
    "# Each path contains `PPL_A_and_B.npy` and `labels.npy`\n",
    "\n",
    "from utils.general_utils import scorer_acc\n",
    "path_data = np.load(f\"{path1}/PPL_A_and_B.npy\")\n",
    "labels = np.load(f\"{path1}/labels.npy\")\n",
    "acc1 = scorer_acc(path_data, labels)\n",
    "\n",
    "path_data2 = np.load(f\"{path2}/PPL_A_and_B.npy\")\n",
    "labels2 = np.load(f\"{path2}/labels.npy\")\n",
    "acc2 = scorer_acc(path_data2, labels2)\n",
    "\n",
    "path_data3 = np.load(f\"{path3}/PPL_A_and_B.npy\")\n",
    "labels3 = np.load(f\"{path3}/labels.npy\")\n",
    "acc3 = scorer_acc(path_data3, labels3)\n",
    "\n",
    "print(f\"path1: {path1} acc: {acc1}\")\n",
    "print(f\"path2: {path2} acc: {acc2}\")\n",
    "print(f\"path3: {path3} acc: {acc3}\")\n",
    "\n",
    "path1 = \"model_results/gpt2_scratch_neuro_tokenizer_backwards/human_abstracts\"\n",
    "path2 = \"model_results/gpt2_scratch_neuro_tokenizer_backwards_seed2/human_abstracts\"\n",
    "path3 = \"model_results/gpt2_scratch_neuro_tokenizer_backwards_seed3/human_abstracts\"\n",
    "\n",
    "# Each path contains `PPL_A_and_B.npy` and `labels.npy`\n",
    "\n",
    "from utils.general_utils import scorer_acc\n",
    "path_data = np.load(f\"{path1}/PPL_A_and_B.npy\")\n",
    "labels = np.load(f\"{path1}/labels.npy\")\n",
    "acc1 = scorer_acc(path_data, labels)\n",
    "\n",
    "path_data2 = np.load(f\"{path2}/PPL_A_and_B.npy\")\n",
    "labels2 = np.load(f\"{path2}/labels.npy\")\n",
    "acc2 = scorer_acc(path_data2, labels2)\n",
    "\n",
    "path_data3 = np.load(f\"{path3}/PPL_A_and_B.npy\")\n",
    "labels3 = np.load(f\"{path3}/labels.npy\")\n",
    "acc3 = scorer_acc(path_data3, labels3)\n",
    "\n",
    "print(f\"\\n\\npath1: {path1} acc: {acc1}\")\n",
    "print(f\"path2: {path2} acc: {acc2}\")\n",
    "print(f\"path3: {path3} acc: {acc3}\")\n"
   ]
  }
 ],
 "metadata": {
  "kernelspec": {
   "display_name": "videollama",
   "language": "python",
   "name": "python3"
  },
  "language_info": {
   "codemirror_mode": {
    "name": "ipython",
    "version": 3
   },
   "file_extension": ".py",
   "mimetype": "text/x-python",
   "name": "python",
   "nbconvert_exporter": "python",
   "pygments_lexer": "ipython3",
   "version": "3.9.16"
  }
 },
 "nbformat": 4,
 "nbformat_minor": 2
}
